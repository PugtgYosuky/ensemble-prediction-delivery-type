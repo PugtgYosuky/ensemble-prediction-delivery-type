{
 "cells": [
  {
   "cell_type": "markdown",
   "metadata": {},
   "source": [
    "# Script to merge the prediction of a tabular classifier and a image classifier"
   ]
  },
  {
   "cell_type": "code",
   "execution_count": null,
   "metadata": {},
   "outputs": [],
   "source": [
    "import pandas as pd\n",
    "import os\n",
    "import json\n",
    "import numpy as np\n",
    "from sklearn import metrics"
   ]
  },
  {
   "cell_type": "code",
   "execution_count": null,
   "metadata": {},
   "outputs": [],
   "source": [
    "tabular_model_name = '{tabular_model}' # INSERT HERE\n",
    "tabular_exp = 'exp00'\n",
    "logs_deep = 'logs-{dl_model}' # INSERT HERE\n",
    "model = logs_deep.split('-')[1]"
   ]
  },
  {
   "cell_type": "code",
   "execution_count": null,
   "metadata": {},
   "outputs": [],
   "source": [
    "tabular_clf_path = os.path.join('..', 'tabular-classifier')\n",
    "image_clf_path = os.path.join('..', 'image-classifier')"
   ]
  },
  {
   "cell_type": "code",
   "execution_count": null,
   "metadata": {},
   "outputs": [],
   "source": [
    "def get_prediction_image(fold, eco_type, logs_deep):\n",
    "    path = os.path.join(image_clf_path, logs_deep)\n",
    "    for exp in os.listdir(path):\n",
    "        with open(os.path.join(path, exp, 'config.json'), 'r') as file:\n",
    "            config = json.load(file)\n",
    "            if config.get('dataset') == f'dataset_images_cv_{fold}/{eco_type}':\n",
    "                preds = pd.read_csv(os.path.join(path, exp, 'test_prediction.csv'))\n",
    "                preds['Processo'] = preds.image.str.split('/').apply(lambda x: x[1]).str.split('_').apply(lambda x: x[0]).str.split('PU').apply(lambda x: x[1]).astype(int)\n",
    "                preds = preds.sort_values(by='Processo')\n",
    "                preds = preds.set_index('Processo')\n",
    "                preds = preds.add_prefix(f'{eco_type}_')\n",
    "                return preds\n",
    "    return  None"
   ]
  },
  {
   "cell_type": "code",
   "execution_count": null,
   "metadata": {},
   "outputs": [],
   "source": [
    "def get_prediction_tabular(tabular_exp, tabular_model_name, fold):\n",
    "    tabular_predictions = pd.read_csv(os.path.join(tabular_clf_path, 'logs', tabular_exp, 'predictions', f'{tabular_model_name}_fold{fold}_predictions.csv'))\n",
    "    tabular_predictions = tabular_predictions.sort_values(by='Processo')\n",
    "    tabular_predictions = tabular_predictions.set_index('Processo')\n",
    "    tabular_predictions = tabular_predictions.add_prefix('Tabular_')\n",
    "    return tabular_predictions"
   ]
  },
  {
   "cell_type": "code",
   "execution_count": null,
   "metadata": {},
   "outputs": [],
   "source": [
    "head_preds = get_prediction_image(eco_type='Head', fold=1, logs_deep=logs_deep)\n",
    "abd_preds = get_prediction_image(eco_type='Abdomen', fold=1, logs_deep=logs_deep)\n",
    "femur_preds = get_prediction_image(eco_type='Femur', fold=1, logs_deep=logs_deep)\n",
    "tabular_preds = get_prediction_tabular(tabular_exp=tabular_exp, tabular_model_name=tabular_model_name, fold=1)\n",
    "df = pd.concat([tabular_preds, head_preds, abd_preds, femur_preds], axis=1)"
   ]
  },
  {
   "cell_type": "code",
   "execution_count": null,
   "metadata": {},
   "outputs": [],
   "source": [
    "for fold in range(1, 3+1):\n",
    "    head_preds = get_prediction_image(eco_type='Head', fold=fold, logs_deep=logs_deep)\n",
    "    abd_preds = get_prediction_image(eco_type='Abdomen', fold=fold, logs_deep=logs_deep)\n",
    "    femur_preds = get_prediction_image(eco_type='Femur', fold=fold, logs_deep=logs_deep)\n",
    "    tabular_preds = get_prediction_tabular(tabular_exp=tabular_exp, tabular_model_name=tabular_model_name, fold=fold)\n",
    "    df = pd.concat([tabular_preds, head_preds, abd_preds, femur_preds], axis=1)\n",
    "    df.columns = [col.replace('__', '_') for col in df.columns]\n",
    "    df.to_csv(f'predictions_{tabular_model_name}_{model}_fold_{fold}.csv')"
   ]
  }
 ],
 "metadata": {
  "language_info": {
   "name": "python"
  }
 },
 "nbformat": 4,
 "nbformat_minor": 2
}
